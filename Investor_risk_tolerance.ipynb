{
  "nbformat": 4,
  "nbformat_minor": 0,
  "metadata": {
    "colab": {
      "name": "Investor risk tolerance EDA and ML model.ipynb",
      "provenance": [],
      "authorship_tag": "ABX9TyPNutDNDjniJA/rFtfoIoIZ"
    },
    "kernelspec": {
      "name": "python3",
      "display_name": "Python 3"
    },
    "language_info": {
      "name": "python"
    }
  },
  "cells": [
    {
      "cell_type": "markdown",
      "source": [
        "The aim of this project is to investigate investors' risk tolerance and their personal perception of it. Next, we will create a model that suggests the ratio of risky to safe assets so that the investor can withstand the determined allocation of assets when the risk materializes."
      ],
      "metadata": {
        "id": "uwWLcD1KB-40"
      }
    },
    {
      "cell_type": "markdown",
      "source": [
        "Data for this project comes from Survey of Consumer Finances 2007 - 2009 https://www.federalreserve.gov/econres/scf_2009p.htm\n",
        "<br>\n",
        "Codebook: https://www.federalreserve.gov/econres/files/codebk2009p.txt\n",
        "<br>\n",
        "The choice is not accidental, as we want to investigate how the financial crisis of 2008 influenced the financial decisions of the respondents.\n",
        "<br>\n",
        "The idea for the development and preparation of data for analysis comes from \"Machine Learning and Data Science Blueprints for finance\" by Hariom Tatsat, Sahil Puri and Brad Lookabaugh."
      ],
      "metadata": {
        "id": "Ees1BdiOAot1"
      }
    },
    {
      "cell_type": "code",
      "source": [
        "import pandas as pd"
      ],
      "metadata": {
        "id": "zUMQp2xOB-Lg"
      },
      "execution_count": 1,
      "outputs": []
    },
    {
      "cell_type": "code",
      "execution_count": 2,
      "metadata": {
        "id": "soctECqE99UP"
      },
      "outputs": [],
      "source": [
        "# data load time ~ 3 min\n",
        "df = pd.read_excel('SCFP2009panel.xlsx')"
      ]
    },
    {
      "cell_type": "code",
      "source": [
        "df.head()"
      ],
      "metadata": {
        "colab": {
          "base_uri": "https://localhost:8080/",
          "height": 299
        },
        "id": "R5RcPwWHFANB",
        "outputId": "72db5fd4-f22f-4c10-9ea2-55b1731a2275"
      },
      "execution_count": 3,
      "outputs": [
        {
          "output_type": "execute_result",
          "data": {
            "text/plain": [
              "   YY1  Y1         WGT09  AGE07  AGECL07  EDUC07  EDCL07  MARRIED07  KIDS07  \\\n",
              "0    1  11  11668.134198     47        3      12       2          1       0   \n",
              "1    1  12  11823.456494     47        3      12       2          1       0   \n",
              "2    1  13  11913.228354     47        3      12       2          1       0   \n",
              "3    1  14  11929.394266     47        3      12       2          1       0   \n",
              "4    1  15  11917.722907     47        3      12       2          1       0   \n",
              "\n",
              "   LIFECL07  ...  NHMORTPCT  WAGEINCPCT  BUSSEFARMINCPCT  INTDIVINCPCT  \\\n",
              "0         2  ... -21.052632  -32.931828              0.0  15939.278937   \n",
              "1         2  ... -21.052632  -32.931828              0.0  15939.278937   \n",
              "2         2  ... -50.000000  -32.931828              0.0  15939.278937   \n",
              "3         2  ... -33.333333  -32.931828              0.0  15939.278937   \n",
              "4         2  ... -38.596491  -32.931828              0.0  15939.278937   \n",
              "\n",
              "   KGINCPCT  SSRETINCPCT  TRANSFOTHINCPCT  PSAVINGPCT  LEVERAGEPCT   I  \n",
              "0       0.0          0.0              0.0   93.125197   270.403054  57  \n",
              "1       0.0          0.0              0.0   93.125197   249.593620  57  \n",
              "2       0.0          0.0              0.0   93.125197   209.233358  57  \n",
              "3       0.0          0.0              0.0   93.125197   209.273158  57  \n",
              "4       0.0          0.0              0.0   93.125197   232.690767  57  \n",
              "\n",
              "[5 rows x 515 columns]"
            ],
            "text/html": [
              "\n",
              "  <div id=\"df-ef35e8cb-0b78-4fdc-af01-5fc26deb4e97\">\n",
              "    <div class=\"colab-df-container\">\n",
              "      <div>\n",
              "<style scoped>\n",
              "    .dataframe tbody tr th:only-of-type {\n",
              "        vertical-align: middle;\n",
              "    }\n",
              "\n",
              "    .dataframe tbody tr th {\n",
              "        vertical-align: top;\n",
              "    }\n",
              "\n",
              "    .dataframe thead th {\n",
              "        text-align: right;\n",
              "    }\n",
              "</style>\n",
              "<table border=\"1\" class=\"dataframe\">\n",
              "  <thead>\n",
              "    <tr style=\"text-align: right;\">\n",
              "      <th></th>\n",
              "      <th>YY1</th>\n",
              "      <th>Y1</th>\n",
              "      <th>WGT09</th>\n",
              "      <th>AGE07</th>\n",
              "      <th>AGECL07</th>\n",
              "      <th>EDUC07</th>\n",
              "      <th>EDCL07</th>\n",
              "      <th>MARRIED07</th>\n",
              "      <th>KIDS07</th>\n",
              "      <th>LIFECL07</th>\n",
              "      <th>...</th>\n",
              "      <th>NHMORTPCT</th>\n",
              "      <th>WAGEINCPCT</th>\n",
              "      <th>BUSSEFARMINCPCT</th>\n",
              "      <th>INTDIVINCPCT</th>\n",
              "      <th>KGINCPCT</th>\n",
              "      <th>SSRETINCPCT</th>\n",
              "      <th>TRANSFOTHINCPCT</th>\n",
              "      <th>PSAVINGPCT</th>\n",
              "      <th>LEVERAGEPCT</th>\n",
              "      <th>I</th>\n",
              "    </tr>\n",
              "  </thead>\n",
              "  <tbody>\n",
              "    <tr>\n",
              "      <th>0</th>\n",
              "      <td>1</td>\n",
              "      <td>11</td>\n",
              "      <td>11668.134198</td>\n",
              "      <td>47</td>\n",
              "      <td>3</td>\n",
              "      <td>12</td>\n",
              "      <td>2</td>\n",
              "      <td>1</td>\n",
              "      <td>0</td>\n",
              "      <td>2</td>\n",
              "      <td>...</td>\n",
              "      <td>-21.052632</td>\n",
              "      <td>-32.931828</td>\n",
              "      <td>0.0</td>\n",
              "      <td>15939.278937</td>\n",
              "      <td>0.0</td>\n",
              "      <td>0.0</td>\n",
              "      <td>0.0</td>\n",
              "      <td>93.125197</td>\n",
              "      <td>270.403054</td>\n",
              "      <td>57</td>\n",
              "    </tr>\n",
              "    <tr>\n",
              "      <th>1</th>\n",
              "      <td>1</td>\n",
              "      <td>12</td>\n",
              "      <td>11823.456494</td>\n",
              "      <td>47</td>\n",
              "      <td>3</td>\n",
              "      <td>12</td>\n",
              "      <td>2</td>\n",
              "      <td>1</td>\n",
              "      <td>0</td>\n",
              "      <td>2</td>\n",
              "      <td>...</td>\n",
              "      <td>-21.052632</td>\n",
              "      <td>-32.931828</td>\n",
              "      <td>0.0</td>\n",
              "      <td>15939.278937</td>\n",
              "      <td>0.0</td>\n",
              "      <td>0.0</td>\n",
              "      <td>0.0</td>\n",
              "      <td>93.125197</td>\n",
              "      <td>249.593620</td>\n",
              "      <td>57</td>\n",
              "    </tr>\n",
              "    <tr>\n",
              "      <th>2</th>\n",
              "      <td>1</td>\n",
              "      <td>13</td>\n",
              "      <td>11913.228354</td>\n",
              "      <td>47</td>\n",
              "      <td>3</td>\n",
              "      <td>12</td>\n",
              "      <td>2</td>\n",
              "      <td>1</td>\n",
              "      <td>0</td>\n",
              "      <td>2</td>\n",
              "      <td>...</td>\n",
              "      <td>-50.000000</td>\n",
              "      <td>-32.931828</td>\n",
              "      <td>0.0</td>\n",
              "      <td>15939.278937</td>\n",
              "      <td>0.0</td>\n",
              "      <td>0.0</td>\n",
              "      <td>0.0</td>\n",
              "      <td>93.125197</td>\n",
              "      <td>209.233358</td>\n",
              "      <td>57</td>\n",
              "    </tr>\n",
              "    <tr>\n",
              "      <th>3</th>\n",
              "      <td>1</td>\n",
              "      <td>14</td>\n",
              "      <td>11929.394266</td>\n",
              "      <td>47</td>\n",
              "      <td>3</td>\n",
              "      <td>12</td>\n",
              "      <td>2</td>\n",
              "      <td>1</td>\n",
              "      <td>0</td>\n",
              "      <td>2</td>\n",
              "      <td>...</td>\n",
              "      <td>-33.333333</td>\n",
              "      <td>-32.931828</td>\n",
              "      <td>0.0</td>\n",
              "      <td>15939.278937</td>\n",
              "      <td>0.0</td>\n",
              "      <td>0.0</td>\n",
              "      <td>0.0</td>\n",
              "      <td>93.125197</td>\n",
              "      <td>209.273158</td>\n",
              "      <td>57</td>\n",
              "    </tr>\n",
              "    <tr>\n",
              "      <th>4</th>\n",
              "      <td>1</td>\n",
              "      <td>15</td>\n",
              "      <td>11917.722907</td>\n",
              "      <td>47</td>\n",
              "      <td>3</td>\n",
              "      <td>12</td>\n",
              "      <td>2</td>\n",
              "      <td>1</td>\n",
              "      <td>0</td>\n",
              "      <td>2</td>\n",
              "      <td>...</td>\n",
              "      <td>-38.596491</td>\n",
              "      <td>-32.931828</td>\n",
              "      <td>0.0</td>\n",
              "      <td>15939.278937</td>\n",
              "      <td>0.0</td>\n",
              "      <td>0.0</td>\n",
              "      <td>0.0</td>\n",
              "      <td>93.125197</td>\n",
              "      <td>232.690767</td>\n",
              "      <td>57</td>\n",
              "    </tr>\n",
              "  </tbody>\n",
              "</table>\n",
              "<p>5 rows × 515 columns</p>\n",
              "</div>\n",
              "      <button class=\"colab-df-convert\" onclick=\"convertToInteractive('df-ef35e8cb-0b78-4fdc-af01-5fc26deb4e97')\"\n",
              "              title=\"Convert this dataframe to an interactive table.\"\n",
              "              style=\"display:none;\">\n",
              "        \n",
              "  <svg xmlns=\"http://www.w3.org/2000/svg\" height=\"24px\"viewBox=\"0 0 24 24\"\n",
              "       width=\"24px\">\n",
              "    <path d=\"M0 0h24v24H0V0z\" fill=\"none\"/>\n",
              "    <path d=\"M18.56 5.44l.94 2.06.94-2.06 2.06-.94-2.06-.94-.94-2.06-.94 2.06-2.06.94zm-11 1L8.5 8.5l.94-2.06 2.06-.94-2.06-.94L8.5 2.5l-.94 2.06-2.06.94zm10 10l.94 2.06.94-2.06 2.06-.94-2.06-.94-.94-2.06-.94 2.06-2.06.94z\"/><path d=\"M17.41 7.96l-1.37-1.37c-.4-.4-.92-.59-1.43-.59-.52 0-1.04.2-1.43.59L10.3 9.45l-7.72 7.72c-.78.78-.78 2.05 0 2.83L4 21.41c.39.39.9.59 1.41.59.51 0 1.02-.2 1.41-.59l7.78-7.78 2.81-2.81c.8-.78.8-2.07 0-2.86zM5.41 20L4 18.59l7.72-7.72 1.47 1.35L5.41 20z\"/>\n",
              "  </svg>\n",
              "      </button>\n",
              "      \n",
              "  <style>\n",
              "    .colab-df-container {\n",
              "      display:flex;\n",
              "      flex-wrap:wrap;\n",
              "      gap: 12px;\n",
              "    }\n",
              "\n",
              "    .colab-df-convert {\n",
              "      background-color: #E8F0FE;\n",
              "      border: none;\n",
              "      border-radius: 50%;\n",
              "      cursor: pointer;\n",
              "      display: none;\n",
              "      fill: #1967D2;\n",
              "      height: 32px;\n",
              "      padding: 0 0 0 0;\n",
              "      width: 32px;\n",
              "    }\n",
              "\n",
              "    .colab-df-convert:hover {\n",
              "      background-color: #E2EBFA;\n",
              "      box-shadow: 0px 1px 2px rgba(60, 64, 67, 0.3), 0px 1px 3px 1px rgba(60, 64, 67, 0.15);\n",
              "      fill: #174EA6;\n",
              "    }\n",
              "\n",
              "    [theme=dark] .colab-df-convert {\n",
              "      background-color: #3B4455;\n",
              "      fill: #D2E3FC;\n",
              "    }\n",
              "\n",
              "    [theme=dark] .colab-df-convert:hover {\n",
              "      background-color: #434B5C;\n",
              "      box-shadow: 0px 1px 3px 1px rgba(0, 0, 0, 0.15);\n",
              "      filter: drop-shadow(0px 1px 2px rgba(0, 0, 0, 0.3));\n",
              "      fill: #FFFFFF;\n",
              "    }\n",
              "  </style>\n",
              "\n",
              "      <script>\n",
              "        const buttonEl =\n",
              "          document.querySelector('#df-ef35e8cb-0b78-4fdc-af01-5fc26deb4e97 button.colab-df-convert');\n",
              "        buttonEl.style.display =\n",
              "          google.colab.kernel.accessAllowed ? 'block' : 'none';\n",
              "\n",
              "        async function convertToInteractive(key) {\n",
              "          const element = document.querySelector('#df-ef35e8cb-0b78-4fdc-af01-5fc26deb4e97');\n",
              "          const dataTable =\n",
              "            await google.colab.kernel.invokeFunction('convertToInteractive',\n",
              "                                                     [key], {});\n",
              "          if (!dataTable) return;\n",
              "\n",
              "          const docLinkHtml = 'Like what you see? Visit the ' +\n",
              "            '<a target=\"_blank\" href=https://colab.research.google.com/notebooks/data_table.ipynb>data table notebook</a>'\n",
              "            + ' to learn more about interactive tables.';\n",
              "          element.innerHTML = '';\n",
              "          dataTable['output_type'] = 'display_data';\n",
              "          await google.colab.output.renderOutput(dataTable, element);\n",
              "          const docLink = document.createElement('div');\n",
              "          docLink.innerHTML = docLinkHtml;\n",
              "          element.appendChild(docLink);\n",
              "        }\n",
              "      </script>\n",
              "    </div>\n",
              "  </div>\n",
              "  "
            ]
          },
          "metadata": {},
          "execution_count": 3
        }
      ]
    },
    {
      "cell_type": "code",
      "source": [
        "df.shape"
      ],
      "metadata": {
        "colab": {
          "base_uri": "https://localhost:8080/"
        },
        "id": "eijEK0LvFBGl",
        "outputId": "2c95e418-c1c6-48cb-8bb7-1aa63ece94cf"
      },
      "execution_count": 5,
      "outputs": [
        {
          "output_type": "execute_result",
          "data": {
            "text/plain": [
              "(19285, 515)"
            ]
          },
          "metadata": {},
          "execution_count": 5
        }
      ]
    },
    {
      "cell_type": "code",
      "source": [
        "df.isnull().sum().sum()"
      ],
      "metadata": {
        "colab": {
          "base_uri": "https://localhost:8080/"
        },
        "id": "qsvlHKxRFGP1",
        "outputId": "9058bfa2-5fef-4793-ae0b-209b51d38471"
      },
      "execution_count": 10,
      "outputs": [
        {
          "output_type": "execute_result",
          "data": {
            "text/plain": [
              "0"
            ]
          },
          "metadata": {},
          "execution_count": 10
        }
      ]
    },
    {
      "cell_type": "code",
      "source": [
        ""
      ],
      "metadata": {
        "id": "aQcueFE0HGP6"
      },
      "execution_count": null,
      "outputs": []
    }
  ]
}