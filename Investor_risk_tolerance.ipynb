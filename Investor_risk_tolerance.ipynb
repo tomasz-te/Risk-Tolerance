{
  "nbformat": 4,
  "nbformat_minor": 0,
  "metadata": {
    "colab": {
      "name": "Investor risk tolerance.ipynb",
      "provenance": [],
      "collapsed_sections": [],
      "authorship_tag": "ABX9TyOPqzch2ccdsq5IRjrMfzgK"
    },
    "kernelspec": {
      "name": "python3",
      "display_name": "Python 3"
    },
    "language_info": {
      "name": "python"
    }
  },
  "cells": [
    {
      "cell_type": "markdown",
      "source": [
        "The aim of this project is to investigate investors' risk tolerance and their personal perception of it. Next, we will create a model that suggests the ratio of risky to safe assets so that the investor can withstand the determined allocation of assets when the risk materializes."
      ],
      "metadata": {
        "id": "uwWLcD1KB-40"
      }
    },
    {
      "cell_type": "markdown",
      "source": [
        "Data for this project comes from Survey of Consumer Finances 2007 - 2009:<br>https://www.federalreserve.gov/econres/scf_2009p.htm\n",
        "<br>\n",
        "Codebook:<br>https://www.federalreserve.gov/econres/files/codebk2009p.txt\n",
        "<br>\n",
        "The choice is not accidental, as we want to investigate how the financial crisis of 2008 influenced the financial decisions of the respondents. The idea for the data preparation comes from \"Machine Learning and Data Science Blueprints for finance\" by Hariom Tatsat, Sahil Puri and Brad Lookabaugh."
      ],
      "metadata": {
        "id": "Ees1BdiOAot1"
      }
    },
    {
      "cell_type": "code",
      "source": [
        "import pandas as pd\n",
        "import numpy as np\n",
        "import seaborn as sns\n",
        "import matplotlib.pyplot as plt"
      ],
      "metadata": {
        "id": "zUMQp2xOB-Lg"
      },
      "execution_count": 118,
      "outputs": []
    },
    {
      "cell_type": "code",
      "execution_count": 119,
      "metadata": {
        "id": "soctECqE99UP"
      },
      "outputs": [],
      "source": [
        "# data load time ~ 3 min\n",
        "df = pd.read_excel('SCFP2009panel.xlsx')"
      ]
    },
    {
      "cell_type": "code",
      "source": [
        "df.head()"
      ],
      "metadata": {
        "colab": {
          "base_uri": "https://localhost:8080/",
          "height": 299
        },
        "id": "R5RcPwWHFANB",
        "outputId": "57294637-aced-4c3a-b769-6d9b7e691231"
      },
      "execution_count": 120,
      "outputs": [
        {
          "output_type": "execute_result",
          "data": {
            "text/plain": [
              "   YY1  Y1         WGT09  AGE07  AGECL07  EDUC07  EDCL07  MARRIED07  KIDS07  \\\n",
              "0    1  11  11668.134198     47        3      12       2          1       0   \n",
              "1    1  12  11823.456494     47        3      12       2          1       0   \n",
              "2    1  13  11913.228354     47        3      12       2          1       0   \n",
              "3    1  14  11929.394266     47        3      12       2          1       0   \n",
              "4    1  15  11917.722907     47        3      12       2          1       0   \n",
              "\n",
              "   LIFECL07  ...  NHMORTPCT  WAGEINCPCT  BUSSEFARMINCPCT  INTDIVINCPCT  \\\n",
              "0         2  ... -21.052632  -32.931828              0.0  15939.278937   \n",
              "1         2  ... -21.052632  -32.931828              0.0  15939.278937   \n",
              "2         2  ... -50.000000  -32.931828              0.0  15939.278937   \n",
              "3         2  ... -33.333333  -32.931828              0.0  15939.278937   \n",
              "4         2  ... -38.596491  -32.931828              0.0  15939.278937   \n",
              "\n",
              "   KGINCPCT  SSRETINCPCT  TRANSFOTHINCPCT  PSAVINGPCT  LEVERAGEPCT   I  \n",
              "0       0.0          0.0              0.0   93.125197   270.403054  57  \n",
              "1       0.0          0.0              0.0   93.125197   249.593620  57  \n",
              "2       0.0          0.0              0.0   93.125197   209.233358  57  \n",
              "3       0.0          0.0              0.0   93.125197   209.273158  57  \n",
              "4       0.0          0.0              0.0   93.125197   232.690767  57  \n",
              "\n",
              "[5 rows x 515 columns]"
            ],
            "text/html": [
              "\n",
              "  <div id=\"df-88abf4b9-ddae-4549-9fad-bea4b57db912\">\n",
              "    <div class=\"colab-df-container\">\n",
              "      <div>\n",
              "<style scoped>\n",
              "    .dataframe tbody tr th:only-of-type {\n",
              "        vertical-align: middle;\n",
              "    }\n",
              "\n",
              "    .dataframe tbody tr th {\n",
              "        vertical-align: top;\n",
              "    }\n",
              "\n",
              "    .dataframe thead th {\n",
              "        text-align: right;\n",
              "    }\n",
              "</style>\n",
              "<table border=\"1\" class=\"dataframe\">\n",
              "  <thead>\n",
              "    <tr style=\"text-align: right;\">\n",
              "      <th></th>\n",
              "      <th>YY1</th>\n",
              "      <th>Y1</th>\n",
              "      <th>WGT09</th>\n",
              "      <th>AGE07</th>\n",
              "      <th>AGECL07</th>\n",
              "      <th>EDUC07</th>\n",
              "      <th>EDCL07</th>\n",
              "      <th>MARRIED07</th>\n",
              "      <th>KIDS07</th>\n",
              "      <th>LIFECL07</th>\n",
              "      <th>...</th>\n",
              "      <th>NHMORTPCT</th>\n",
              "      <th>WAGEINCPCT</th>\n",
              "      <th>BUSSEFARMINCPCT</th>\n",
              "      <th>INTDIVINCPCT</th>\n",
              "      <th>KGINCPCT</th>\n",
              "      <th>SSRETINCPCT</th>\n",
              "      <th>TRANSFOTHINCPCT</th>\n",
              "      <th>PSAVINGPCT</th>\n",
              "      <th>LEVERAGEPCT</th>\n",
              "      <th>I</th>\n",
              "    </tr>\n",
              "  </thead>\n",
              "  <tbody>\n",
              "    <tr>\n",
              "      <th>0</th>\n",
              "      <td>1</td>\n",
              "      <td>11</td>\n",
              "      <td>11668.134198</td>\n",
              "      <td>47</td>\n",
              "      <td>3</td>\n",
              "      <td>12</td>\n",
              "      <td>2</td>\n",
              "      <td>1</td>\n",
              "      <td>0</td>\n",
              "      <td>2</td>\n",
              "      <td>...</td>\n",
              "      <td>-21.052632</td>\n",
              "      <td>-32.931828</td>\n",
              "      <td>0.0</td>\n",
              "      <td>15939.278937</td>\n",
              "      <td>0.0</td>\n",
              "      <td>0.0</td>\n",
              "      <td>0.0</td>\n",
              "      <td>93.125197</td>\n",
              "      <td>270.403054</td>\n",
              "      <td>57</td>\n",
              "    </tr>\n",
              "    <tr>\n",
              "      <th>1</th>\n",
              "      <td>1</td>\n",
              "      <td>12</td>\n",
              "      <td>11823.456494</td>\n",
              "      <td>47</td>\n",
              "      <td>3</td>\n",
              "      <td>12</td>\n",
              "      <td>2</td>\n",
              "      <td>1</td>\n",
              "      <td>0</td>\n",
              "      <td>2</td>\n",
              "      <td>...</td>\n",
              "      <td>-21.052632</td>\n",
              "      <td>-32.931828</td>\n",
              "      <td>0.0</td>\n",
              "      <td>15939.278937</td>\n",
              "      <td>0.0</td>\n",
              "      <td>0.0</td>\n",
              "      <td>0.0</td>\n",
              "      <td>93.125197</td>\n",
              "      <td>249.593620</td>\n",
              "      <td>57</td>\n",
              "    </tr>\n",
              "    <tr>\n",
              "      <th>2</th>\n",
              "      <td>1</td>\n",
              "      <td>13</td>\n",
              "      <td>11913.228354</td>\n",
              "      <td>47</td>\n",
              "      <td>3</td>\n",
              "      <td>12</td>\n",
              "      <td>2</td>\n",
              "      <td>1</td>\n",
              "      <td>0</td>\n",
              "      <td>2</td>\n",
              "      <td>...</td>\n",
              "      <td>-50.000000</td>\n",
              "      <td>-32.931828</td>\n",
              "      <td>0.0</td>\n",
              "      <td>15939.278937</td>\n",
              "      <td>0.0</td>\n",
              "      <td>0.0</td>\n",
              "      <td>0.0</td>\n",
              "      <td>93.125197</td>\n",
              "      <td>209.233358</td>\n",
              "      <td>57</td>\n",
              "    </tr>\n",
              "    <tr>\n",
              "      <th>3</th>\n",
              "      <td>1</td>\n",
              "      <td>14</td>\n",
              "      <td>11929.394266</td>\n",
              "      <td>47</td>\n",
              "      <td>3</td>\n",
              "      <td>12</td>\n",
              "      <td>2</td>\n",
              "      <td>1</td>\n",
              "      <td>0</td>\n",
              "      <td>2</td>\n",
              "      <td>...</td>\n",
              "      <td>-33.333333</td>\n",
              "      <td>-32.931828</td>\n",
              "      <td>0.0</td>\n",
              "      <td>15939.278937</td>\n",
              "      <td>0.0</td>\n",
              "      <td>0.0</td>\n",
              "      <td>0.0</td>\n",
              "      <td>93.125197</td>\n",
              "      <td>209.273158</td>\n",
              "      <td>57</td>\n",
              "    </tr>\n",
              "    <tr>\n",
              "      <th>4</th>\n",
              "      <td>1</td>\n",
              "      <td>15</td>\n",
              "      <td>11917.722907</td>\n",
              "      <td>47</td>\n",
              "      <td>3</td>\n",
              "      <td>12</td>\n",
              "      <td>2</td>\n",
              "      <td>1</td>\n",
              "      <td>0</td>\n",
              "      <td>2</td>\n",
              "      <td>...</td>\n",
              "      <td>-38.596491</td>\n",
              "      <td>-32.931828</td>\n",
              "      <td>0.0</td>\n",
              "      <td>15939.278937</td>\n",
              "      <td>0.0</td>\n",
              "      <td>0.0</td>\n",
              "      <td>0.0</td>\n",
              "      <td>93.125197</td>\n",
              "      <td>232.690767</td>\n",
              "      <td>57</td>\n",
              "    </tr>\n",
              "  </tbody>\n",
              "</table>\n",
              "<p>5 rows × 515 columns</p>\n",
              "</div>\n",
              "      <button class=\"colab-df-convert\" onclick=\"convertToInteractive('df-88abf4b9-ddae-4549-9fad-bea4b57db912')\"\n",
              "              title=\"Convert this dataframe to an interactive table.\"\n",
              "              style=\"display:none;\">\n",
              "        \n",
              "  <svg xmlns=\"http://www.w3.org/2000/svg\" height=\"24px\"viewBox=\"0 0 24 24\"\n",
              "       width=\"24px\">\n",
              "    <path d=\"M0 0h24v24H0V0z\" fill=\"none\"/>\n",
              "    <path d=\"M18.56 5.44l.94 2.06.94-2.06 2.06-.94-2.06-.94-.94-2.06-.94 2.06-2.06.94zm-11 1L8.5 8.5l.94-2.06 2.06-.94-2.06-.94L8.5 2.5l-.94 2.06-2.06.94zm10 10l.94 2.06.94-2.06 2.06-.94-2.06-.94-.94-2.06-.94 2.06-2.06.94z\"/><path d=\"M17.41 7.96l-1.37-1.37c-.4-.4-.92-.59-1.43-.59-.52 0-1.04.2-1.43.59L10.3 9.45l-7.72 7.72c-.78.78-.78 2.05 0 2.83L4 21.41c.39.39.9.59 1.41.59.51 0 1.02-.2 1.41-.59l7.78-7.78 2.81-2.81c.8-.78.8-2.07 0-2.86zM5.41 20L4 18.59l7.72-7.72 1.47 1.35L5.41 20z\"/>\n",
              "  </svg>\n",
              "      </button>\n",
              "      \n",
              "  <style>\n",
              "    .colab-df-container {\n",
              "      display:flex;\n",
              "      flex-wrap:wrap;\n",
              "      gap: 12px;\n",
              "    }\n",
              "\n",
              "    .colab-df-convert {\n",
              "      background-color: #E8F0FE;\n",
              "      border: none;\n",
              "      border-radius: 50%;\n",
              "      cursor: pointer;\n",
              "      display: none;\n",
              "      fill: #1967D2;\n",
              "      height: 32px;\n",
              "      padding: 0 0 0 0;\n",
              "      width: 32px;\n",
              "    }\n",
              "\n",
              "    .colab-df-convert:hover {\n",
              "      background-color: #E2EBFA;\n",
              "      box-shadow: 0px 1px 2px rgba(60, 64, 67, 0.3), 0px 1px 3px 1px rgba(60, 64, 67, 0.15);\n",
              "      fill: #174EA6;\n",
              "    }\n",
              "\n",
              "    [theme=dark] .colab-df-convert {\n",
              "      background-color: #3B4455;\n",
              "      fill: #D2E3FC;\n",
              "    }\n",
              "\n",
              "    [theme=dark] .colab-df-convert:hover {\n",
              "      background-color: #434B5C;\n",
              "      box-shadow: 0px 1px 3px 1px rgba(0, 0, 0, 0.15);\n",
              "      filter: drop-shadow(0px 1px 2px rgba(0, 0, 0, 0.3));\n",
              "      fill: #FFFFFF;\n",
              "    }\n",
              "  </style>\n",
              "\n",
              "      <script>\n",
              "        const buttonEl =\n",
              "          document.querySelector('#df-88abf4b9-ddae-4549-9fad-bea4b57db912 button.colab-df-convert');\n",
              "        buttonEl.style.display =\n",
              "          google.colab.kernel.accessAllowed ? 'block' : 'none';\n",
              "\n",
              "        async function convertToInteractive(key) {\n",
              "          const element = document.querySelector('#df-88abf4b9-ddae-4549-9fad-bea4b57db912');\n",
              "          const dataTable =\n",
              "            await google.colab.kernel.invokeFunction('convertToInteractive',\n",
              "                                                     [key], {});\n",
              "          if (!dataTable) return;\n",
              "\n",
              "          const docLinkHtml = 'Like what you see? Visit the ' +\n",
              "            '<a target=\"_blank\" href=https://colab.research.google.com/notebooks/data_table.ipynb>data table notebook</a>'\n",
              "            + ' to learn more about interactive tables.';\n",
              "          element.innerHTML = '';\n",
              "          dataTable['output_type'] = 'display_data';\n",
              "          await google.colab.output.renderOutput(dataTable, element);\n",
              "          const docLink = document.createElement('div');\n",
              "          docLink.innerHTML = docLinkHtml;\n",
              "          element.appendChild(docLink);\n",
              "        }\n",
              "      </script>\n",
              "    </div>\n",
              "  </div>\n",
              "  "
            ]
          },
          "metadata": {},
          "execution_count": 120
        }
      ]
    },
    {
      "cell_type": "code",
      "source": [
        "df.shape"
      ],
      "metadata": {
        "colab": {
          "base_uri": "https://localhost:8080/"
        },
        "id": "eijEK0LvFBGl",
        "outputId": "d27dd010-4b2b-4876-d336-b78dcc7a04eb"
      },
      "execution_count": 121,
      "outputs": [
        {
          "output_type": "execute_result",
          "data": {
            "text/plain": [
              "(19285, 515)"
            ]
          },
          "metadata": {},
          "execution_count": 121
        }
      ]
    },
    {
      "cell_type": "markdown",
      "source": [
        "Our task is to summarize all risky and safe assets in the portfolios of the respondents. Then a comparison of the obtained ratios for 2007 and 2009."
      ],
      "metadata": {
        "id": "jO0_n8cYZXX8"
      }
    },
    {
      "cell_type": "code",
      "source": [
        "# Risky assets = mutual funds + stocks + corporate bonds\n",
        "df['Risky2007'] = df['NMMF07'] + df['STOCKS07'] + df['BOND07']\n",
        "df['Risky2009'] = df['NMMF09'] + df['STOCKS09'] + df['BOND09']\n",
        "\n",
        "# Safe assets = checking and saving accounts + certificates of deposit + gov bonds + cash\n",
        "df['Safe2007'] = df['LIQ07'] + df['CDS07'] + df['SAVBND07'] + df['CASHLI07']\n",
        "df['Safe2009'] = df['LIQ09'] + df['CDS09'] + df['SAVBND09'] + df['CASHLI09']"
      ],
      "metadata": {
        "id": "aQcueFE0HGP6"
      },
      "execution_count": 122,
      "outputs": []
    },
    {
      "cell_type": "code",
      "source": [
        "# Calculating risk tolerance.\n",
        "df['RiskTol2007'] = df['Risky2007'] / (df['Risky2007'] + df['Safe2007'])\n",
        "df['RiskTol2009'] = df['Risky2009'] / (df['Risky2009'] + df['Safe2009'])"
      ],
      "metadata": {
        "id": "9fL6SGZudmqb"
      },
      "execution_count": 123,
      "outputs": []
    },
    {
      "cell_type": "code",
      "source": [
        "df.shape"
      ],
      "metadata": {
        "colab": {
          "base_uri": "https://localhost:8080/"
        },
        "id": "GmRIcktEnpCB",
        "outputId": "1aa3372e-d3c8-405c-b1f9-f82ada7fac6d"
      },
      "execution_count": 124,
      "outputs": [
        {
          "output_type": "execute_result",
          "data": {
            "text/plain": [
              "(19285, 521)"
            ]
          },
          "metadata": {},
          "execution_count": 124
        }
      ]
    },
    {
      "cell_type": "code",
      "source": [
        "# A different approach than the suggestion from the book. We will measure nominal percent change, \n",
        "# not a relative change.\n",
        "df['RiskTolChange'] = df['RiskTol2009'] - df['RiskTol2007']"
      ],
      "metadata": {
        "id": "o_KeKWMAn1cH"
      },
      "execution_count": 125,
      "outputs": []
    },
    {
      "cell_type": "code",
      "source": [
        "df=df.dropna()\n",
        "#df=df[~df.isin([np.nan, np.inf, -np.inf]).any(1)]\n",
        "df.isna().sum().sum()"
      ],
      "metadata": {
        "colab": {
          "base_uri": "https://localhost:8080/"
        },
        "id": "AFhlWi0Kexmd",
        "outputId": "f763a6c0-2987-4efd-e517-01fec9d42813"
      },
      "execution_count": 126,
      "outputs": [
        {
          "output_type": "execute_result",
          "data": {
            "text/plain": [
              "0"
            ]
          },
          "metadata": {},
          "execution_count": 126
        }
      ]
    },
    {
      "cell_type": "markdown",
      "source": [
        "Let's remove people who were not interested or could not invest in 2007. Of course, we'll also accidentally remove people whose true risk tolerance is zero, but that's not a problem."
      ],
      "metadata": {
        "id": "yiPL-R2BfNqD"
      }
    },
    {
      "cell_type": "code",
      "source": [
        "df=df[df['Risky2007']>0]"
      ],
      "metadata": {
        "id": "D0Roo5u5dpzV"
      },
      "execution_count": 127,
      "outputs": []
    },
    {
      "cell_type": "code",
      "source": [
        "df.shape"
      ],
      "metadata": {
        "colab": {
          "base_uri": "https://localhost:8080/"
        },
        "id": "fAvMYY0LkU2E",
        "outputId": "eed1c63a-dea6-4c82-f88a-c64c259e004c"
      },
      "execution_count": 128,
      "outputs": [
        {
          "output_type": "execute_result",
          "data": {
            "text/plain": [
              "(7956, 522)"
            ]
          },
          "metadata": {},
          "execution_count": 128
        }
      ]
    },
    {
      "cell_type": "markdown",
      "source": [
        "Let's use the following reasonably selected columns as features for our model. <br>\n",
        "AGE07<br>\n",
        "Age of person in 2007. <br>\n",
        "EDCL07<br>\n",
        "1 = no high school, 4 = college degree.<br>\n",
        "MARRIED07<br>\n",
        "1 = married\n",
        "2 = unmarried.<br>\n",
        "OCCAT107<br>\n",
        "Occupation. 1 = managerial status, 4 = unemployed.<br>\n",
        "KIDS07<br>\n",
        "Number of children.<br>\n",
        "WSAVED07<br>\n",
        "Spending vs income ratio. 1 spending > income, 2 spening ~ income, 3 spendng < income<br>\n",
        "NETWORTH07<br>\n",
        "Net worth of respondent.<br>\n",
        "INCOME07<br>\n",
        "Income of respondent<br>\n",
        "RISK07<br>\n",
        "Level of willingness to take risk. 1 = highest , 4 = lowest.<br>\n",
        "HHOUSES07<br>\n",
        "1 = own a home, 0 = does not own a home.<br>\n",
        "SPENDMOR07<br>\n",
        "How willing the respondent is to spend more if the assets have appreciated. 1 = is not willing at all, 5 = is willing very much."
      ],
      "metadata": {
        "id": "CLavFdF3K_N_"
      }
    },
    {
      "cell_type": "code",
      "source": [
        "keep_columns = ['AGE07','EDCL07','MARRIED07','HHOUSES07','KIDS07','OCCAT107','WSAVED07','INCOME07','SPENDMOR07','RISK07','NETWORTH07',\n",
        "                'Risky2007','Risky2009','Safe2007','Safe2009','RiskTol2007','RiskTol2009','RiskTolChange']\n",
        "drop_columns = [column for column in df.columns if column not in keep_columns]"
      ],
      "metadata": {
        "id": "2L-F2pewIu3K"
      },
      "execution_count": 129,
      "outputs": []
    },
    {
      "cell_type": "code",
      "source": [
        "df.drop(labels=drop_columns, axis=1, inplace=True)"
      ],
      "metadata": {
        "colab": {
          "base_uri": "https://localhost:8080/"
        },
        "id": "uXvTD8DvKbhV",
        "outputId": "b9a8ad3c-c200-41f2-b12f-10e95221df1b"
      },
      "execution_count": 130,
      "outputs": [
        {
          "output_type": "stream",
          "name": "stderr",
          "text": [
            "/usr/local/lib/python3.7/dist-packages/pandas/core/frame.py:4913: SettingWithCopyWarning: \n",
            "A value is trying to be set on a copy of a slice from a DataFrame\n",
            "\n",
            "See the caveats in the documentation: https://pandas.pydata.org/pandas-docs/stable/user_guide/indexing.html#returning-a-view-versus-a-copy\n",
            "  errors=errors,\n"
          ]
        }
      ]
    },
    {
      "cell_type": "code",
      "source": [
        "df.shape"
      ],
      "metadata": {
        "colab": {
          "base_uri": "https://localhost:8080/"
        },
        "id": "qeUBWjz_K1my",
        "outputId": "0519962f-3a0a-44e3-f703-ee71e2bb7564"
      },
      "execution_count": 131,
      "outputs": [
        {
          "output_type": "execute_result",
          "data": {
            "text/plain": [
              "(7956, 18)"
            ]
          },
          "metadata": {},
          "execution_count": 131
        }
      ]
    },
    {
      "cell_type": "code",
      "source": [
        "# copy of dataset for faster loading in the future\n",
        "df.to_csv('data.csv')"
      ],
      "metadata": {
        "id": "l-m1QbqWLxOs"
      },
      "execution_count": 132,
      "outputs": []
    },
    {
      "cell_type": "markdown",
      "source": [
        "#Exploratory data analysis"
      ],
      "metadata": {
        "id": "WUc51e1Hm0eT"
      }
    },
    {
      "cell_type": "code",
      "source": [
        "df = pd.read_csv('data.csv')"
      ],
      "metadata": {
        "id": "MgjcSEq6nA-2"
      },
      "execution_count": null,
      "outputs": []
    },
    {
      "cell_type": "code",
      "source": [
        "df['RiskTolChange'].mean()"
      ],
      "metadata": {
        "colab": {
          "base_uri": "https://localhost:8080/"
        },
        "id": "wpC5GWJiMmA0",
        "outputId": "70b5782a-d8fd-4fea-a59d-1c70f69d6b51"
      },
      "execution_count": 133,
      "outputs": [
        {
          "output_type": "execute_result",
          "data": {
            "text/plain": [
              "-0.1385569940011197"
            ]
          },
          "metadata": {},
          "execution_count": 133
        }
      ]
    },
    {
      "cell_type": "code",
      "source": [
        "df['RiskTol2007'].mean()"
      ],
      "metadata": {
        "colab": {
          "base_uri": "https://localhost:8080/"
        },
        "id": "EiZyDM9QOWo2",
        "outputId": "68dec57e-66eb-4222-861b-8a4a8006c167"
      },
      "execution_count": 134,
      "outputs": [
        {
          "output_type": "execute_result",
          "data": {
            "text/plain": [
              "0.629715497620536"
            ]
          },
          "metadata": {},
          "execution_count": 134
        }
      ]
    },
    {
      "cell_type": "code",
      "source": [
        "df['RiskTol2009'].mean()"
      ],
      "metadata": {
        "colab": {
          "base_uri": "https://localhost:8080/"
        },
        "id": "OcjWFnG_Ofvr",
        "outputId": "0d81445c-fc53-4f33-c1a7-2fe0a53bb30c"
      },
      "execution_count": 135,
      "outputs": [
        {
          "output_type": "execute_result",
          "data": {
            "text/plain": [
              "0.49115850361941243"
            ]
          },
          "metadata": {},
          "execution_count": 135
        }
      ]
    },
    {
      "cell_type": "code",
      "source": [
        "df.sort_values('RiskTolChange').reset_index()['RiskTolChange'].plot()"
      ],
      "metadata": {
        "colab": {
          "base_uri": "https://localhost:8080/",
          "height": 285
        },
        "id": "qsWCBRsCRsXT",
        "outputId": "756bb457-c1ba-4abe-b659-c2a24e2de5ba"
      },
      "execution_count": 136,
      "outputs": [
        {
          "output_type": "execute_result",
          "data": {
            "text/plain": [
              "<matplotlib.axes._subplots.AxesSubplot at 0x7f6d18993950>"
            ]
          },
          "metadata": {},
          "execution_count": 136
        },
        {
          "output_type": "display_data",
          "data": {
            "text/plain": [
              "<Figure size 432x288 with 1 Axes>"
            ],
            "image/png": "[encoded data removed]"
          },
          "metadata": {}
        }
      ]
    },
    {
      "cell_type": "code",
      "source": [
        "sns.set_theme()\n",
        "sns.lineplot(data=df.sort_values('RiskTolChange').reset_index()['RiskTolChange'])\n",
        "plt.show()"
      ],
      "metadata": {
        "colab": {
          "base_uri": "https://localhost:8080/",
          "height": 268
        },
        "id": "f5czsRMWSqX2",
        "outputId": "383fcd10-9ab4-4462-bd7c-aeef938195d6"
      },
      "execution_count": 137,
      "outputs": [
        {
          "output_type": "display_data",
          "data": {
            "text/plain": [
              "<Figure size 432x288 with 1 Axes>"
            ],
            "image/png": "[encoded data removed]"
          },
          "metadata": {}
        }
      ]
    },
    {
      "cell_type": "code",
      "source": [
        "sns.distplot(df['RiskTol2009'], hist=True, kde=False,\n",
        " bins=int(180/5), color = 'blue',\n",
        " hist_kws={'edgecolor':'black'})"
      ],
      "metadata": {
        "colab": {
          "base_uri": "https://localhost:8080/",
          "height": 357
        },
        "id": "jFOp1bwulF1M",
        "outputId": "a5bc404b-733c-4885-b9fc-7f171b7dbc73"
      },
      "execution_count": 138,
      "outputs": [
        {
          "output_type": "stream",
          "name": "stderr",
          "text": [
            "/usr/local/lib/python3.7/dist-packages/seaborn/distributions.py:2619: FutureWarning: `distplot` is a deprecated function and will be removed in a future version. Please adapt your code to use either `displot` (a figure-level function with similar flexibility) or `histplot` (an axes-level function for histograms).\n",
            "  warnings.warn(msg, FutureWarning)\n"
          ]
        },
        {
          "output_type": "execute_result",
          "data": {
            "text/plain": [
              "<matplotlib.axes._subplots.AxesSubplot at 0x7f6d183ac5d0>"
            ]
          },
          "metadata": {},
          "execution_count": 138
        },
        {
          "output_type": "display_data",
          "data": {
            "text/plain": [
              "<Figure size 432x288 with 1 Axes>"
            ],
            "image/png": "[encoded data removed]"
          },
          "metadata": {}
        }
      ]
    }
  ]
}